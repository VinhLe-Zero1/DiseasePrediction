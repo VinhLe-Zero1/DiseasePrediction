{
 "cells": [
  {
   "cell_type": "code",
   "execution_count": 1,
   "metadata": {
    "collapsed": true
   },
   "outputs": [],
   "source": [
    "import json\n",
    "import numpy as np\n",
    "import pandas as pd"
   ]
  },
  {
   "cell_type": "code",
   "execution_count": 15,
   "outputs": [],
   "source": [
    "symptomDict = json.load(open(\"..\\\\data\\\\eng2vi.json\", \"r\", encoding=\"utf-8\"))"
   ],
   "metadata": {
    "collapsed": false,
    "pycharm": {
     "name": "#%%\n"
    }
   }
  },
  {
   "cell_type": "code",
   "execution_count": 6,
   "outputs": [
    {
     "data": {
      "text/plain": "dict_keys(['itching', 'skin_rash', 'nodal_skin_eruptions', 'continuous_sneezing', 'shivering', 'chills', 'joint_pain', 'stomach_pain', 'acidity', 'ulcers_on_tongue', 'muscle_wasting', 'vomiting', 'burning_micturition', 'spotting_ urination', 'fatigue', 'weight_gain', 'anxiety', 'cold_hands_and_feets', 'mood_swings', 'weight_loss', 'restlessness', 'lethargy', 'patches_in_throat', 'irregular_sugar_level', 'cough', 'high_fever', 'sunken_eyes', 'breathlessness', 'sweating', 'dehydration', 'indigestion', 'headache', 'yellowish_skin', 'dark_urine', 'nausea', 'loss_of_appetite', 'pain_behind_the_eyes', 'back_pain', 'constipation', 'abdominal_pain', 'diarrhoea', 'mild_fever', 'yellow_urine', 'yellowing_of_eyes', 'acute_liver_failure', 'fluid_overload', 'swelling_of_stomach', 'swelled_lymph_nodes', 'malaise', 'blurred_and_distorted_vision', 'phlegm', 'throat_irritation', 'redness_of_eyes', 'sinus_pressure', 'runny_nose', 'congestion', 'chest_pain', 'weakness_in_limbs', 'fast_heart_rate', 'pain_during_bowel_movements', 'pain_in_anal_region', 'bloody_stool', 'irritation_in_anus', 'neck_pain', 'dizziness', 'cramps', 'bruising', 'obesity', 'swollen_legs', 'swollen_blood_vessels', 'puffy_face_and_eyes', 'enlarged_thyroid', 'brittle_nails', 'swollen_extremeties', 'excessive_hunger', 'extra_marital_contacts', 'drying_and_tingling_lips', 'slurred_speech', 'knee_pain', 'hip_joint_pain', 'muscle_weakness', 'stiff_neck', 'swelling_joints', 'movement_stiffness', 'spinning_movements', 'loss_of_balance', 'unsteadiness', 'weakness_of_one_body_side', 'loss_of_smell', 'bladder_discomfort', 'foul_smell_of urine', 'continuous_feel_of_urine', 'passage_of_gases', 'internal_itching', 'toxic_look_(typhos)', 'depression', 'irritability', 'muscle_pain', 'altered_sensorium', 'red_spots_over_body', 'belly_pain', 'abnormal_menstruation', 'dischromic _patches', 'watering_from_eyes', 'increased_appetite', 'polyuria', 'family_history', 'mucoid_sputum', 'rusty_sputum', 'lack_of_concentration', 'visual_disturbances', 'receiving_blood_transfusion', 'receiving_unsterile_injections', 'coma', 'stomach_bleeding', 'distention_of_abdomen', 'history_of_alcohol_consumption', 'fluid_overload.1', 'blood_in_sputum', 'prominent_veins_on_calf', 'palpitations', 'painful_walking', 'pus_filled_pimples', 'blackheads', 'scurring', 'skin_peeling', 'silver_like_dusting', 'small_dents_in_nails', 'inflammatory_nails', 'blister', 'red_sore_around_nose', 'yellow_crust_ooze'])"
     },
     "execution_count": 6,
     "metadata": {},
     "output_type": "execute_result"
    }
   ],
   "source": [
    "symptomDict.keys()"
   ],
   "metadata": {
    "collapsed": false,
    "pycharm": {
     "name": "#%%\n"
    }
   }
  },
  {
   "cell_type": "code",
   "execution_count": 7,
   "outputs": [],
   "source": [
    "daLieu = [\"ngứa\", \"phát ban da\", \"nổi mụn trên da thành sần\", \"mắt thâm\", \"da vàng\", \"móng gãy giòn\",\n",
    "          \"sưng phồng da\", \"môi khô và ngứa\",\"nổi đốm đỏ\", \"da sưng đỏ ngứa\", \"nổi mụn mủ trắng\",\n",
    "          \"mụn đầu đen\", \"lột da\", \"sạm da\", \"mẻ móng\", \"viêm móng\",  \"rộp da\", \"da mọc vảy vàng\"\n",
    "        ]\n",
    "\n",
    "taiMuiHong = [\"hắt xì hơi liên tục\", \"rát cổ họng\", \"loét lưỡi\", \"ho\", \"khó thở\", \"xoang\",\n",
    "              \"đờm dãi\", \"khó chịu cổ họng\", \"viêm xoang\", \"mũi chảy nước\", \"đờm nhầy\",\n",
    "              \"đờm đẫm\", \"đờm ra máu\", \"mũi đỏ\"\n",
    "              ]\n",
    "\n",
    "camLanh = [\"lạnh cóng\", \"ớn lạnh\", \"tay chân lạnh\", \"sốt cao\", \"sốt nhẹ\"]\n",
    "\n",
    "xuongKhop = [\"đau khớp\", \"đau lưng\", \"đau đầu gối\", \"đau cổ\", \"đau khớp hông\"]\n",
    "\n",
    "heTieuHoa = [\"đau dạ dày\", \"thừa acid dạ dày\", \"nôn mửa\", \"khó tiêu\", \"đau dạ dày\", \"đầy bụng\",\n",
    "             \"đói liên tục\", \"đau bụng\", \"thèm ăn\", \"chảy máu dạ dày\", \"đầy bụng\",\n",
    "             ]\n",
    "\n",
    "coBap = [\"giãn cơ\", \"chuột rút\", \"suy cơ\", \"suy tứ chi\", \"cứng cổ\", \"sưng khớp\", \"cứng cơ\",\n",
    "         \"bước đi run\", \"đau cơ\", \"đau khi đi bộ\",\n",
    "         ]\n",
    "\n",
    "baiTiet = [\"đi tiểu rát\", \"đái ra máu\", \"nước tiểu đục\",  \"táo bón\", \"tiêu chảy\", \"nước tiểu vàng\",\n",
    "           \"đau khi đi đại tiện\", \"đau vùng đít\", \"máu trong phân\", \"khó chịu lỗ đít\",\n",
    "           \"đau bóng đái\", \"nước tiểu khai\", \"đau tiểu liên tục\", \"đánh rắm\",\"chứng tiểu nhiều\",\n",
    "\n",
    "           ]\n",
    "\n",
    "theChatVaTinhThan = [\"mệt mỏi\", \"tăng cân\", \"lo lắng\", \"tâm trạng thất thường\", \"sút cân\",\n",
    "                     \"bồn chồn\", \"hôn mê\", \"chán ăn\", \"khó chịu\", \"chóng mặt\", \"béo phì\",\n",
    "                     \"nói nhảm\" , \"trầm cảm\", \"khó chịu\", \"thiếu tập trung\", \"hôn mê\",\n",
    "                    \"hồi hộp\",\n",
    "                     ]\n",
    "\n",
    "noiTietTo = [\"đường huyết bất thường\", \"đổ mồ hôi\", \"mất nước\", \"suy gan cấp\", \"suy gan cấp\",\n",
    "             \"tràn dịch\", \"sưng huyết\", \"sưng mạch máu\", \"bướu cổ\", \"ngứa trong người\",\n",
    "             \"thương hàn\", \"tràn dịch bậc 1\", \"thiếu vitaminc C\", ]\n",
    "\n",
    "dau = [\"đau đầu\", \"đau ngực\", \"bầm tím\", \"sưng chân\", \"sưng mặt và mắt\"]\n",
    "\n",
    "mat = [\"đau hốc mắt\", \"mắt vàng\", \"tầm nhìn mờ và méo mó\", \"đau mắt đỏ\", \"chảy nước mắt\",\n",
    "       \"tầm nhìn bị xáo trộn\",\n",
    "       ]\n",
    "\n",
    "timMach = [\"nhịp tim cao\", \"giãn tĩnh mạch\", ]\n",
    "\n",
    "khac = [\"sưng hạch bạch huyết\",  \"tiền sử gia đình\", \"được truyền máu\", \"được tim chưa khử trùng\",\n",
    "        \"tiền sử nghiện rượu\",\n",
    "        ]\n",
    "\n",
    "thanKinh = [\"liệt nửa người\", \"đi loạng choạng\", \"mất cân bằng\", \"mất khứu giác\", \"rối loạn cảm nhận\",\n",
    "\n",
    "            ]\n",
    "\n",
    "sinhLy = [\"tình dục nhiều\", \"kinh nguyệt bất thường\", ]"
   ],
   "metadata": {
    "collapsed": false,
    "pycharm": {
     "name": "#%%\n"
    }
   }
  },
  {
   "cell_type": "code",
   "execution_count": 8,
   "outputs": [],
   "source": [
    "nhomBenh = dict()\n",
    "nhomBenh[\"Da liễu\"] = daLieu\n",
    "nhomBenh[\"Tai mũi họng\"] = taiMuiHong\n",
    "nhomBenh[\"Cảm lạnh\"] = camLanh\n",
    "nhomBenh[\"Xương khớp\"] = xuongKhop\n",
    "nhomBenh[\"Hệ tiêu hóa\"] = heTieuHoa\n",
    "nhomBenh[\"Cơ bắp\"] = coBap\n",
    "nhomBenh[\"Bài tiết\"] = baiTiet\n",
    "nhomBenh[\"Thể chất và tinh thần\"] = theChatVaTinhThan\n",
    "nhomBenh[\"Nội tiết tố\"] = noiTietTo\n",
    "nhomBenh[\"Đau thường\"] = dau\n",
    "nhomBenh[\"Mắt\"] = mat\n",
    "nhomBenh[\"Tim mạch\"] = timMach\n",
    "nhomBenh[\"Thần kinh\"] = thanKinh\n",
    "nhomBenh[\"Sinh lý\"] = sinhLy\n",
    "nhomBenh[\"Khác\"] = khac"
   ],
   "metadata": {
    "collapsed": false,
    "pycharm": {
     "name": "#%%\n"
    }
   }
  },
  {
   "cell_type": "code",
   "execution_count": 14,
   "outputs": [],
   "source": [
    "json.dump(nhomBenh, open(\"..\\\\data\\\\symptomGrouped.json\", \"w\", encoding=\"utf-8\")\n",
    "          , ensure_ascii=False)"
   ],
   "metadata": {
    "collapsed": false,
    "pycharm": {
     "name": "#%%\n"
    }
   }
  },
  {
   "cell_type": "code",
   "execution_count": 16,
   "outputs": [],
   "source": [
    "vi2eng = dict()\n",
    "for key in symptomDict.keys():\n",
    "    vi2eng[symptomDict[key]] = key\n"
   ],
   "metadata": {
    "collapsed": false,
    "pycharm": {
     "name": "#%%\n"
    }
   }
  },
  {
   "cell_type": "code",
   "execution_count": 20,
   "outputs": [
    {
     "data": {
      "text/plain": "{'ngứa': 'itching',\n 'phát ban da': 'skin_rash',\n 'nổi mụn trên da thành sần': 'nodal_skin_eruptions',\n 'hắt xì hơi liên tục': 'continuous_sneezing',\n 'lạnh cóng': 'shivering',\n 'ớn lạnh': 'chills',\n 'đau khớp': 'joint_pain',\n 'đau dạ dày': 'abdominal_pain',\n 'thừa acid dạ dày': 'acidity',\n 'loét lưỡi': 'ulcers_on_tongue',\n 'giãn cơ': 'muscle_wasting',\n 'nôn mửa': 'vomiting',\n 'đi tiểu rát': 'burning_micturition',\n 'đái ra máu': 'spotting_ urination',\n 'mệt mỏi': 'fatigue',\n 'tăng cân': 'weight_gain',\n 'lo lắng': 'anxiety',\n 'tay chân lạnh': 'cold_hands_and_feets',\n 'tâm trạng thất thường': 'mood_swings',\n 'sút cân': 'weight_loss',\n 'bồn chồn': 'restlessness',\n 'hôn mê': 'coma',\n 'rát cổ họng': 'patches_in_throat',\n 'đường huyết bất thường': 'irregular_sugar_level',\n 'ho': 'cough',\n 'sốt cao': 'high_fever',\n 'mắt thâm': 'sunken_eyes',\n 'khó thở': 'breathlessness',\n 'đổ mồ hôi': 'sweating',\n 'mất nước': 'dehydration',\n 'khó tiêu': 'indigestion',\n 'đau đầu': 'headache',\n 'da vàng': 'yellowish_skin',\n 'nước tiểu đục': 'dark_urine',\n 'xoang': 'nausea',\n 'chán ăn': 'loss_of_appetite',\n 'đau hốc mắt': 'pain_behind_the_eyes',\n 'đau lưng': 'back_pain',\n 'táo bón': 'constipation',\n 'tiêu chảy': 'diarrhoea',\n 'sốt nhẹ': 'mild_fever',\n 'nước tiểu vàng': 'yellow_urine',\n 'mắt vàng': 'yellowing_of_eyes',\n 'suy gan cấp': 'acute_liver_failure',\n 'tràn dịch': 'fluid_overload',\n 'đầy bụng': 'distention_of_abdomen',\n 'sưng hạch bạch huyết': 'swelled_lymph_nodes',\n 'khó chịu': 'irritability',\n 'tầm nhìn mờ và méo mó': 'blurred_and_distorted_vision',\n 'đờm dãi': 'phlegm',\n 'khó chịu cổ họng': 'throat_irritation',\n 'đau mắt đỏ': 'redness_of_eyes',\n 'viêm xoang': 'sinus_pressure',\n 'mũi chảy nước': 'runny_nose',\n 'sưng huyết': 'congestion',\n 'đau ngực': 'chest_pain',\n 'suy tứ chi': 'weakness_in_limbs',\n 'nhịp tim cao': 'fast_heart_rate',\n 'đau khi đi đại tiện': 'pain_during_bowel_movements',\n 'đau vùng đít': 'pain_in_anal_region',\n 'máu trong phân': 'bloody_stool',\n 'khó chịu lỗ đít': 'irritation_in_anus',\n 'đau cổ': 'neck_pain',\n 'chóng mặt': 'dizziness',\n 'chuột rút': 'cramps',\n 'bầm tím': 'bruising',\n 'béo phì': 'obesity',\n 'sưng chân': 'swollen_legs',\n 'sưng mạch máu': 'swollen_blood_vessels',\n 'sưng mặt và mắt': 'puffy_face_and_eyes',\n 'bướu cổ': 'enlarged_thyroid',\n 'móng gãy giòn': 'brittle_nails',\n 'sưng phồng da': 'swollen_extremeties',\n 'đói liên tục': 'excessive_hunger',\n 'tình dục nhiều': 'extra_marital_contacts',\n 'môi khô và ngứa': 'drying_and_tingling_lips',\n 'nói nhảm': 'slurred_speech',\n 'đau đầu gối': 'knee_pain',\n 'đau khớp hông': 'hip_joint_pain',\n 'suy cơ': 'muscle_weakness',\n 'cứng cổ': 'stiff_neck',\n 'sưng khớp': 'swelling_joints',\n 'cứng cơ': 'movement_stiffness',\n 'đi loạng choạng': 'spinning_movements',\n 'mất cân bằng': 'loss_of_balance',\n 'bước đi run': 'unsteadiness',\n 'liệt nửa người': 'weakness_of_one_body_side',\n 'mất khứu giác': 'loss_of_smell',\n 'đau bóng đái': 'bladder_discomfort',\n 'nước tiểu khai': 'foul_smell_of urine',\n 'đau tiểu liên tục': 'continuous_feel_of_urine',\n 'đánh rắm': 'passage_of_gases',\n 'ngứa trong người': 'internal_itching',\n 'thương hàn': 'toxic_look_(typhos)',\n 'trầm cảm': 'depression',\n 'đau cơ': 'muscle_pain',\n 'rối loạn cảm nhận': 'altered_sensorium',\n 'nổi đốm đỏ': 'red_spots_over_body',\n 'đau bụng': 'belly_pain',\n 'kinh nguyệt bất thường': 'abnormal_menstruation',\n 'da sưng đỏ ngứa': 'dischromic _patches',\n 'chảy nước mắt': 'watering_from_eyes',\n 'thèm ăn': 'increased_appetite',\n 'chứng tiểu nhiều': 'polyuria',\n 'tiền sử gia đình': 'family_history',\n 'đờm nhầy': 'mucoid_sputum',\n 'đờm đẫm': 'rusty_sputum',\n 'thiếu tập trung': 'lack_of_concentration',\n 'tầm nhìn bị xáo trộn': 'visual_disturbances',\n 'được truyền máu': 'receiving_blood_transfusion',\n 'được tim chưa khử trùng': 'receiving_unsterile_injections',\n 'chảy máu dạ dày': 'stomach_bleeding',\n 'tiền sử nghiện rượu': 'history_of_alcohol_consumption',\n 'tràn dịch bậc 1': 'fluid_overload.1',\n 'đờm ra máu': 'blood_in_sputum',\n 'giãn tĩnh mạch': 'prominent_veins_on_calf',\n 'hồi hộp': 'palpitations',\n 'đau khi đi bộ': 'painful_walking',\n 'nổi mụn mủ trắng': 'pus_filled_pimples',\n 'mụn đầu đen': 'blackheads',\n 'thiếu vitaminc C': 'scurring',\n 'lột da': 'skin_peeling',\n 'sạm da': 'silver_like_dusting',\n 'mẻ móng': 'small_dents_in_nails',\n 'viêm móng': 'inflammatory_nails',\n 'rộp da': 'blister',\n 'mũi đỏ': 'red_sore_around_nose',\n 'da mọc vảy vàng': 'yellow_crust_ooze'}"
     },
     "execution_count": 20,
     "metadata": {},
     "output_type": "execute_result"
    }
   ],
   "source": [
    "vi2eng"
   ],
   "metadata": {
    "collapsed": false,
    "pycharm": {
     "name": "#%%\n"
    }
   }
  },
  {
   "cell_type": "code",
   "execution_count": 23,
   "outputs": [],
   "source": [
    "json.dump(vi2eng, open(\"..\\\\data\\\\vi2eng.json\", \"w\", encoding=\"utf-8\")\n",
    "          , ensure_ascii=False)"
   ],
   "metadata": {
    "collapsed": false,
    "pycharm": {
     "name": "#%%\n"
    }
   }
  },
  {
   "cell_type": "code",
   "execution_count": 24,
   "outputs": [],
   "source": [
    "with open(\"..\\\\data\\\\vi2eng.json\", \"w\", encoding=\"utf-8\") as f:\n",
    "    json.dump(vi2eng, f, ensure_ascii=False)\n"
   ],
   "metadata": {
    "collapsed": false,
    "pycharm": {
     "name": "#%%\n"
    }
   }
  }
 ],
 "metadata": {
  "kernelspec": {
   "display_name": "Python 3",
   "language": "python",
   "name": "python3"
  },
  "language_info": {
   "codemirror_mode": {
    "name": "ipython",
    "version": 2
   },
   "file_extension": ".py",
   "mimetype": "text/x-python",
   "name": "python",
   "nbconvert_exporter": "python",
   "pygments_lexer": "ipython2",
   "version": "2.7.6"
  }
 },
 "nbformat": 4,
 "nbformat_minor": 0
}